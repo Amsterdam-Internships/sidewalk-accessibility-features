{
 "cells": [
  {
   "cell_type": "code",
   "execution_count": 1,
   "metadata": {},
   "outputs": [],
   "source": [
    "import numpy as np\n",
    "\n",
    "import json\n",
    "import os\n",
    "import requests\n",
    "\n",
    "import shapely.geometry as sg\n",
    "import pandas as pd\n",
    "import geopandas as gpd\n",
    "from geopandas import GeoDataFrame\n",
    "import folium\n",
    "\n",
    "import matplotlib.pyplot as plt\n",
    "import matplotlib.patches as mpatches\n",
    "import matplotlib\n",
    "\n",
    "import contextily as cx\n",
    "\n",
    "import cv2\n",
    "import selectivesearch\n",
    "import math\n",
    "\n",
    "from sklearn.cluster import KMeans"
   ]
  },
  {
   "attachments": {},
   "cell_type": "markdown",
   "metadata": {},
   "source": [
    "## Define resources and paths"
   ]
  },
  {
   "attachments": {},
   "cell_type": "markdown",
   "metadata": {},
   "source": [
    "### Panoramic Images (DataPunt)"
   ]
  },
  {
   "cell_type": "code",
   "execution_count": null,
   "metadata": {},
   "outputs": [],
   "source": [
    "# Make a call to the API to get the panoramas in the area of interest after 2021-01-01\n",
    "\n",
    "# Base API url\n",
    "base_url = \"https://api.data.amsterdam.nl/panorama/panoramas/?format=json&page_size=10&srid=4326&bbox={},{},{},{}&timestamp_after=2021-01-01\" \n",
    "\n",
    "# Bounding box coordinates for the area of interest (Osdorp)\n",
    "bounds = (4.754844, 52.346254, 4.820438, 52.381408)\n",
    "\n",
    "# Create the url\n",
    "url = base_url.format(*bounds)\n",
    "\n",
    "test_api = requests.get(url).json()\n",
    "\n",
    "# Print the keys of test_api\n",
    "print(test_api)"
   ]
  },
  {
   "attachments": {},
   "cell_type": "markdown",
   "metadata": {},
   "source": [
    "## Pre-process Data"
   ]
  },
  {
   "cell_type": "code",
   "execution_count": null,
   "metadata": {},
   "outputs": [],
   "source": []
  }
 ],
 "metadata": {
  "kernelspec": {
   "display_name": "sidewalk",
   "language": "python",
   "name": "python3"
  },
  "language_info": {
   "codemirror_mode": {
    "name": "ipython",
    "version": 3
   },
   "file_extension": ".py",
   "mimetype": "text/x-python",
   "name": "python",
   "nbconvert_exporter": "python",
   "pygments_lexer": "ipython3",
   "version": "3.10.8 (main, Nov 24 2022, 08:09:04) [Clang 14.0.6 ]"
  },
  "orig_nbformat": 4,
  "vscode": {
   "interpreter": {
    "hash": "0398545de64f5480d50057bfa80d7b91815b52a35a193bada6e43e32d7f1b93d"
   }
  }
 },
 "nbformat": 4,
 "nbformat_minor": 2
}
