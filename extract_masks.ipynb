{
 "cells": [
  {
   "cell_type": "code",
   "execution_count": 4,
   "metadata": {},
   "outputs": [],
   "source": [
    "import numpy as np\n",
    "import cv2\n",
    "import matplotlib.pyplot as plt\n",
    "import os"
   ]
  },
  {
   "cell_type": "code",
   "execution_count": 8,
   "metadata": {},
   "outputs": [],
   "source": [
    "# Load list of folders in the folder\n",
    "# Folder is in format MOVE_neighbourhood_full_masks\n",
    "folder_path = 'res/dataset/centrum_west_full/masked/' \n",
    "\n",
    "# Load list of folders in the folder of original images\n",
    "# Folder is in format neighbourhood_full_reprojected\n",
    "folder_path_original = 'res/dataset/centrum_west_full/reprojected/'"
   ]
  },
  {
   "cell_type": "code",
   "execution_count": 29,
   "metadata": {},
   "outputs": [],
   "source": [
    "# The folder contains a list of folders, each one containing the masks for back, front, left and right images\n",
    "# We are interested in just the left and right ones\n",
    "# Ignore the .DS_Store file if it exists\n",
    "# We want to do this for both the original folder and the mask folder, together\n",
    "imgs = ['/left.png', '/right.png']\n",
    "for panorama_folder in os.listdir(folder_path):\n",
    "    if panorama_folder != '.DS_Store':\n",
    "        # Make a folder in MOVE_centrum_west_full for each panorama\n",
    "        os.makedirs('res/dataset/centrum_west_full/masked_extracted/' + panorama_folder, exist_ok=True)\n",
    "        for img in imgs:\n",
    "            # Load list of files in the folder\n",
    "            # File is in format MOVE_neighbourhood_full_masks/panorama_folder/left.png\n",
    "            file_path = folder_path + panorama_folder + img\n",
    "            # Load list of files in the folder of original images\n",
    "            # File is in format neighbourhood_full_reprojected/panorama_folder/left.png\n",
    "            file_path_original = folder_path_original + panorama_folder + img\n",
    "            # Load the original image\n",
    "            original_image = cv2.imread(file_path_original)\n",
    "            # Convert the colors\n",
    "            original_image = cv2.cvtColor(original_image, cv2.COLOR_BGR2RGB)\n",
    "            # Load the mask\n",
    "            mask = cv2.imread(file_path, cv2.IMREAD_GRAYSCALE)\n",
    "            # Resize the mask to the size of the original image\n",
    "            mask = cv2.resize(mask, (original_image.shape[1], original_image.shape[0]))\n",
    "            # Normalize the mask\n",
    "            normalized_mask = (mask - mask.min()) / (mask.max() - mask.min())\n",
    "\n",
    "            # Apply Gaussian blur to the mask to smooth it out\n",
    "            kernel_size = (3,3)\n",
    "            normalized_mask = cv2.GaussianBlur(normalized_mask, kernel_size, 0)\n",
    "\n",
    "            # Extract only the part of the image that corresponds to the mask\n",
    "            result = np.zeros(original_image.shape, np.uint8)\n",
    "            result[normalized_mask != 0] = original_image[normalized_mask != 0]\n",
    "\n",
    "            # Save the image in MOVE_centrum_west_full, making a folder for each panorama, and saving the left and right images in the same folder\n",
    "            result = cv2.cvtColor(result, cv2.COLOR_BGR2RGB)\n",
    "            cv2.imwrite('/home/andrealombardo/Documents/GitHub/sidewalk-accessibility-features/res/dataset/centrum_west_full/masked_extracted/' + panorama_folder + img, result)"
   ]
  },
  {
   "cell_type": "code",
   "execution_count": null,
   "metadata": {},
   "outputs": [],
   "source": []
  }
 ],
 "metadata": {
  "kernelspec": {
   "display_name": "sidewalk",
   "language": "python",
   "name": "python3"
  },
  "language_info": {
   "codemirror_mode": {
    "name": "ipython",
    "version": 3
   },
   "file_extension": ".py",
   "mimetype": "text/x-python",
   "name": "python",
   "nbconvert_exporter": "python",
   "pygments_lexer": "ipython3",
   "version": "3.10.9"
  },
  "orig_nbformat": 4,
  "vscode": {
   "interpreter": {
    "hash": "dc8f10fb08dfb72464ef72608aacb17a188f70ae123fafdbcc993818f90d6e3a"
   }
  }
 },
 "nbformat": 4,
 "nbformat_minor": 2
}
