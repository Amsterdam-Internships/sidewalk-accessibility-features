{
 "cells": [
  {
   "cell_type": "code",
   "execution_count": 70,
   "metadata": {},
   "outputs": [
    {
     "name": "stdout",
     "output_type": "stream",
     "text": [
      "Number of od_labels: 1940\n",
      "Number of od_labels after removing duplicates: 970\n"
     ]
    }
   ],
   "source": [
    "import os\n",
    "import pandas as pd\n",
    "import geopandas as gpd\n",
    "import requests\n",
    "import json\n",
    "\n",
    "output_file = os.path.join(\"res/dataset_PS/centrum_west_small/backprojected/object_locations.csv\")\n",
    "\n",
    "'''Get labels from Project Sidewalk'''\n",
    "\n",
    "base_url = 'https://sidewalk-amsterdam.cs.washington.edu/v2/access/attributesWithLabels?' + \\\n",
    "'lat1={}&lng1={}&lat2={}&lng2={}' \n",
    "whole = (52.303, 4.8, 52.425, 5.05)\n",
    "#centrum_west = (52.364925, 4.87444, 52.388692, 4.90641)\n",
    "coords = whole\n",
    "url = base_url.format(*coords)\n",
    "local_dump = url.replace('/', '|')\n",
    "try:\n",
    "    project_sidewalk_labels = json.load(open(local_dump, 'r'))\n",
    "except Exception as e:\n",
    "    print(\"Couldn't load local dump\")\n",
    "    project_sidewalk_labels = requests.get(url.format(*coords)).json()\n",
    "    json.dump(project_sidewalk_labels, open(local_dump, 'w'))\n",
    "\n",
    "od_labels_path = pd.read_csv(output_file)\n",
    "# Convert od_labels_path to a geopandas dataframe\n",
    "od_labels_df = gpd.GeoDataFrame(od_labels_path, geometry=gpd.points_from_xy(od_labels_path.lon, od_labels_path.lat))\n",
    "print('Number of od_labels: {}'.format(len(od_labels_df)))\n",
    "\n",
    "# For fairness, remove duplicates from od_labels_df based on pano_id\n",
    "od_labels_df = od_labels_df.drop_duplicates(subset=['pano_id'])\n",
    "print('Number of od_labels after removing duplicates: {}'.format(len(od_labels_df)))"
   ]
  },
  {
   "cell_type": "code",
   "execution_count": 72,
   "metadata": {},
   "outputs": [
    {
     "name": "stdout",
     "output_type": "stream",
     "text": [
      "Number of labels before filtering: 10616\n",
      "Number of labels after filtering: 1728\n",
      "Number of PS labels after filtering per panos: 1460\n",
      "970\n",
      "1460\n",
      "874\n"
     ]
    }
   ],
   "source": [
    "ps_labels_df = gpd.GeoDataFrame.from_features(project_sidewalk_labels['features'])\n",
    "print('Number of labels before filtering: {}'.format(len(ps_labels_df)))\n",
    "ps_labels_df = ps_labels_df[ps_labels_df['label_type'] == 'Obstacle']\n",
    "print('Number of labels after filtering: {}'.format(len(ps_labels_df)))\n",
    "# Filter ps_labels so that it only contains labels where \"gsv_panorama_id\" is in the list of pano_ids in od_labels\n",
    "ps_labels_df = ps_labels_df[ps_labels_df[\"gsv_panorama_id\"].isin(od_labels_df[\"pano_id\"])]\n",
    "print('Number of PS labels after filtering per panos: {}'.format(len(ps_labels_df)))\n",
    "\n",
    "# create a circle buffer around the points in ps_labels_df\n",
    "buffer_distance = 0.000106 # meters    \n",
    "gpd_ps_labels_df = gpd.GeoDataFrame(geometry=ps_labels_df.geometry.buffer(buffer_distance))\n",
    "\n",
    "od_labels_df = od_labels_df.reset_index(drop=True)\n",
    "gpd_ps_labels_df = gpd_ps_labels_df.reset_index(drop=True)\n",
    "\n",
    "# join the two dataframes based on the points that intersect the buffered points in ps_labels_buffered\n",
    "joined_df = gpd.sjoin(od_labels_df, gpd_ps_labels_df, predicate='within')\n",
    "\n",
    "print(len(od_labels_df))\n",
    "print(len(gpd_ps_labels_df))\n",
    "print(len(joined_df))\n",
    "\n"
   ]
  },
  {
   "cell_type": "code",
   "execution_count": null,
   "metadata": {},
   "outputs": [],
   "source": [
    "# Visualize the joined dataframe\n",
    "import folium\n",
    "\n",
    "hmap = folium.Map(location=[52.3676, 4.90], zoom_start=12, tiles='stamentoner',)\n",
    "\n",
    "# Visualize pd_labels_df\n",
    "for i in range(len(ps_labels_df)):\n",
    "    folium.CircleMarker(location=[row[\"geometry\"].y, row[\"geometry\"].x],\n",
    "                        radius=1,\n",
    "                        color='red',\n",
    "                        fill=True,\n",
    "                        fill_color='red',\n",
    "                        fill_opacity=0.5).add_to(hmap)\n",
    "    \n",
    "# Visualize od_labels_df"
   ]
  },
  {
   "cell_type": "code",
   "execution_count": 73,
   "metadata": {},
   "outputs": [
    {
     "name": "stdout",
     "output_type": "stream",
     "text": [
      "   Accuracy  Precision    Recall\n",
      "0  0.901031    0.59863  0.901031\n"
     ]
    }
   ],
   "source": [
    "# Calculate the number of correct and incorrect predictions\n",
    "num_correct = len(joined_df)\n",
    "num_incorrect = len(od_labels_df) - num_correct\n",
    "\n",
    "# Calculate accuracy\n",
    "accuracy = num_correct / len(od_labels_df)\n",
    "\n",
    "# Calculate precision and recall\n",
    "precision = num_correct / len(ps_labels_df)\n",
    "recall = num_correct / len(od_labels_df)\n",
    "\n",
    "# Create a pandas dataframe to store the results\n",
    "metrics_df = pd.DataFrame({'Accuracy': [accuracy], 'Precision': [precision], 'Recall': [recall]})\n",
    "\n",
    "# Print the results\n",
    "print(metrics_df)"
   ]
  },
  {
   "cell_type": "code",
   "execution_count": null,
   "metadata": {},
   "outputs": [],
   "source": []
  }
 ],
 "metadata": {
  "kernelspec": {
   "display_name": "sidewalk",
   "language": "python",
   "name": "python3"
  },
  "language_info": {
   "codemirror_mode": {
    "name": "ipython",
    "version": 3
   },
   "file_extension": ".py",
   "mimetype": "text/x-python",
   "name": "python",
   "nbconvert_exporter": "python",
   "pygments_lexer": "ipython3",
   "version": "3.10.9"
  },
  "orig_nbformat": 4,
  "vscode": {
   "interpreter": {
    "hash": "dc8f10fb08dfb72464ef72608aacb17a188f70ae123fafdbcc993818f90d6e3a"
   }
  }
 },
 "nbformat": 4,
 "nbformat_minor": 2
}
