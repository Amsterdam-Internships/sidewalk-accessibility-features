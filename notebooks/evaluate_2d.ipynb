{
 "cells": [
  {
   "cell_type": "code",
   "execution_count": 113,
   "metadata": {},
   "outputs": [],
   "source": [
    "import json\n",
    "import numpy as np\n",
    "import os\n",
    "import pandas as pd\n",
    "import requests\n",
    "import geopandas as gpd\n",
    "import matplotlib.pyplot as plt\n",
    "import pycocotools.mask as mask_util\n",
    "from tqdm import tqdm"
   ]
  },
  {
   "cell_type": "code",
   "execution_count": 3,
   "metadata": {},
   "outputs": [
    {
     "name": "stdout",
     "output_type": "stream",
     "text": [
      "Couldn't load local dump\n"
     ]
    }
   ],
   "source": [
    "base_url = \"https://sidewalk-amsterdam.cs.washington.edu/v2/access/attributesWithLabels?lat1={}&lng1={}&lat2={}&lng2={}\" \n",
    "whole = (52.303, 4.8, 52.425, 5.05)\n",
    "centrum_west = (52.364925, 4.87444, 52.388692, 4.90641)\n",
    "test = (52.0, 4.0, 53.0, 5.0)\n",
    "\n",
    "coords = test\n",
    "\n",
    "url = base_url.format(*coords)\n",
    "\n",
    "local_dump = url.replace('/', '|')\n",
    "\n",
    "try:\n",
    "    project_sidewalk_labels = json.load(open(local_dump, 'r'))\n",
    "except Exception as e:\n",
    "    print(\"Couldn't load local dump\")\n",
    "    project_sidewalk_labels = requests.get(url.format(*coords)).json()\n",
    "    json.dump(project_sidewalk_labels, open(local_dump, 'w'))"
   ]
  },
  {
   "cell_type": "code",
   "execution_count": 4,
   "metadata": {},
   "outputs": [
    {
     "name": "stdout",
     "output_type": "stream",
     "text": [
      "Length before filtering: 12446\n"
     ]
    }
   ],
   "source": [
    "ps_labels_df = gpd.GeoDataFrame.from_features(project_sidewalk_labels['features'])\n",
    "# Print length before filtering\n",
    "print('Length before filtering:', len(ps_labels_df))"
   ]
  },
  {
   "cell_type": "code",
   "execution_count": 5,
   "metadata": {},
   "outputs": [
    {
     "name": "stdout",
     "output_type": "stream",
     "text": [
      "28116\n"
     ]
    }
   ],
   "source": [
    "# Send a get call to this API: https://sidewalk-amsterdam-test.cs.washington.edu/adminapi/labels/cvMetadata\n",
    "other_labels = requests.get('https://sidewalk-amsterdam.cs.washington.edu/adminapi/labels/cvMetadata').json()\n",
    "other_labels_df = pd.DataFrame(other_labels)\n",
    "print(len(other_labels_df))"
   ]
  },
  {
   "cell_type": "code",
   "execution_count": 6,
   "metadata": {},
   "outputs": [
    {
     "name": "stdout",
     "output_type": "stream",
     "text": [
      "Number of labels in other_labels_df after filtering for obstacles:  4523\n",
      "            gsv_panorama_id  sv_image_x  sv_image_y\n",
      "13   QG9izCWflOTRFfj1p8ayOg        2360        -581\n",
      "14   QG9izCWflOTRFfj1p8ayOg        6293        -591\n",
      "15   XKsEqcQnS38rGe1A93j3Zw        7277        -967\n",
      "16   ESLyc1nlqIJAYjY3UMEyfA       10429        -906\n",
      "17   ESLyc1nlqIJAYjY3UMEyfA        9960        -733\n",
      "18   ESLyc1nlqIJAYjY3UMEyfA         201        -711\n",
      "19   o7mvSW5tdQZ-Dk6E8r7GQA       12514        -553\n",
      "20   QsCR87yYsMYz6Sl0N_LEfQ         300        -977\n",
      "21   rS0oWMLWPld5C72IxGe4Ag       12835        -212\n",
      "22   rS0oWMLWPld5C72IxGe4Ag        3556        -693\n",
      "23   emPYfwR18hDQsjA616KQEg        5433        -954\n",
      "37   30_uqDtY60Ms8gWU_F3GfA         648       -1076\n",
      "81   8pZ19pRbIkT6g8ZXKlXa1A        2315        -862\n",
      "82   8pZ19pRbIkT6g8ZXKlXa1A        8689       -1254\n",
      "96   gT7cl9lDgCEjCU9WRFonZQ       11023        -684\n",
      "109  EJLrfstQRrB54xmsf6kMjw        3861       -1415\n",
      "123  UpFNL6vpZUx9rcFwfSJC5g        4846        -735\n",
      "129  DxmXYjBUg7MvuCNpsZOZIQ        7377        -570\n",
      "135  De1UJzvuUEPxmb_1kO1nqQ        3276       -1191\n",
      "140  De1UJzvuUEPxmb_1kO1nqQ         238        -827\n"
     ]
    }
   ],
   "source": [
    "# Filter labels dataframe to only contain obstacles\n",
    "ps_labels_df = ps_labels_df[ps_labels_df['label_type'] == 'Obstacle']\n",
    "\n",
    "# Intersect other_labels_df with ps_labels_df\n",
    "other_labels_df = other_labels_df[other_labels_df['gsv_panorama_id'].isin(ps_labels_df['gsv_panorama_id'])]\n",
    "print('Number of labels in other_labels_df after filtering for obstacles: ', len(other_labels_df))\n",
    "print(other_labels_df[['gsv_panorama_id','sv_image_x', 'sv_image_y']].head(20))"
   ]
  },
  {
   "cell_type": "code",
   "execution_count": 106,
   "metadata": {},
   "outputs": [],
   "source": [
    "def visualize_label(dataframe, pano_id):\n",
    "\n",
    "    image_path = f'../res/dataset_PS/centrum_west_small/reoriented/{pano_id}'\n",
    "    mask_path = f'../res/dataset_PS/centrum_west_small/backprojected/{pano_id}/{pano_id}.png'\n",
    "    image = plt.imread(image_path)\n",
    "    mask = plt.imread(mask_path)\n",
    "\n",
    "    # Find all the labels in the panorama\n",
    "    labels = dataframe[dataframe['gsv_panorama_id'] == pano_id]\n",
    "\n",
    "    labels_coords = []\n",
    "\n",
    "    fig = plt.figure()\n",
    "    plt.imshow(image, cmap='gray')\n",
    "    plt.imshow(mask, cmap='jet', alpha=0.4)\n",
    "\n",
    "    # For each label, find its coordinates in the panorama\n",
    "    for index, row in labels.iterrows():\n",
    "        #print('Labels coming from panorama:', row['gsv_panorama_id'])\n",
    "        label_name = row['label_id']\n",
    "        image_width = row['image_width']\n",
    "        image_height = row['image_height']\n",
    "        sv_image_x = row['sv_image_x']\n",
    "        # Momentarily change the definition of sv_image_y. For now,\n",
    "        # sv_image_y is the offset w.r.t. the middle of the image\n",
    "        # which means that the real y coordinate is y = (image_width / 2) - sv_image_y\n",
    "        sv_image_y = row['sv_image_y']\n",
    "        real_y = (image_height / 2) - sv_image_y\n",
    "\n",
    "        #print(f'Original image width: {image_width}, height: {image_height}')\n",
    "        #print(f'Original label {label_name} coordinates: {sv_image_x}, {sv_image_y}')\n",
    "        #print(f'Original label {label_name} with real y-coordinates' \\\n",
    "        #    f'({image_height}/2){sv_image_y}: {sv_image_x}, {real_y}')\n",
    "\n",
    "        # image_width : sv_image_x = my_pano_width : sv_pano_x\n",
    "        # sv_pano_x = (sv_image_x * my_pano_width) / image_width\n",
    "        sv_pano_x = int(sv_image_x*image.shape[1]/image_width)\n",
    "        sv_pano_y = int(real_y*image.shape[0]/image_height)\n",
    "\n",
    "        #print(f'Scaled label {label_name} coordinates: {sv_pano_x}, {sv_pano_y} \\n')\n",
    "\n",
    "        # Visualize the point (sv_pano_x, sv_pano_y) on the image\n",
    "        #print(f'Label {label_name} coordinates: {sv_pano_x}, {sv_pano_y} \\n')\n",
    "        plt.scatter(sv_pano_x, sv_pano_y, color='red', s=10)\n",
    "        \n",
    "\n",
    "        labels_coords.append((sv_pano_y, sv_pano_x))\n",
    "\n",
    "    #plt.show()\n",
    "    # Make a folder 'visualized' if not present\n",
    "    if not os.path.exists(f'../res/dataset_PS/centrum_west_small/visualized'):\n",
    "        os.makedirs(f'../res/dataset_PS/centrum_west_small/visualized')\n",
    "    # Save the image\n",
    "    fig.savefig(f'../res/dataset_PS/centrum_west_small/visualized/{pano_id}.png', dpi=300, bbox_inches='tight')\n",
    "\n",
    "    return labels_coords"
   ]
  },
  {
   "cell_type": "code",
   "execution_count": 107,
   "metadata": {},
   "outputs": [
    {
     "data": {
      "text/plain": [
       "'def split_masks(pred_mask):\\n    # Determine the center of the image\\n    center = pred_mask.shape[1] // 2\\n\\n    # Create two new images with the same dimensions as the original image\\n    mask1 = np.zeros_like(pred_mask)\\n    mask2 = np.zeros_like(pred_mask)\\n\\n    # Copy the first half of the original image to the first new image\\n    # and blacken the second half\\n    mask1[:, :center] = pred_mask[:, :center]\\n\\n    # Copy the second half of the original image to the second new image\\n    # and blacken the first half\\n    mask2[:, center:] = pred_mask[:, center:]\\n\\n    return mask1, mask2'"
      ]
     },
     "execution_count": 107,
     "metadata": {},
     "output_type": "execute_result"
    }
   ],
   "source": [
    "'''def split_masks(pred_mask):\n",
    "    # Determine the center of the image\n",
    "    center = pred_mask.shape[1] // 2\n",
    "\n",
    "    # Create two new images with the same dimensions as the original image\n",
    "    mask1 = np.zeros_like(pred_mask)\n",
    "    mask2 = np.zeros_like(pred_mask)\n",
    "\n",
    "    # Copy the first half of the original image to the first new image\n",
    "    # and blacken the second half\n",
    "    mask1[:, :center] = pred_mask[:, :center]\n",
    "\n",
    "    # Copy the second half of the original image to the second new image\n",
    "    # and blacken the first half\n",
    "    mask2[:, center:] = pred_mask[:, center:]\n",
    "\n",
    "    return mask1, mask2'''"
   ]
  },
  {
   "cell_type": "code",
   "execution_count": 108,
   "metadata": {},
   "outputs": [],
   "source": [
    "def point_to_mask_distance(gt_points, pred_masks):\n",
    "    distances = []\n",
    "    closest_points = []\n",
    "    mask_indices = []\n",
    "\n",
    "    for gt_point in gt_points:\n",
    "        min_distance = float('inf')\n",
    "        closest_y, closest_x = -1, -1\n",
    "        mask_index = -1\n",
    "\n",
    "        for idx, pred_mask in enumerate(pred_masks):\n",
    "            mask_channel = pred_mask[:, :, 0]  # Assuming the first channel contains the binary mask\n",
    "            mask_coords = np.where(mask_channel > 0)  # Get the indices of non-zero elements (i.e., the mask)\n",
    "            mask_coords = np.vstack(mask_coords).T  # Stack the mask indices into a 2D array\n",
    "\n",
    "            point_coords = np.array(gt_point).reshape(1, -1)\n",
    "            dist = cdist(point_coords, mask_coords)\n",
    "\n",
    "            local_min_distance_idx = np.argmin(dist)\n",
    "            local_min_distance = dist[0, local_min_distance_idx]\n",
    "            local_closest_y, local_closest_x = mask_coords[local_min_distance_idx]\n",
    "\n",
    "            if local_min_distance < min_distance:\n",
    "                min_distance = local_min_distance\n",
    "                closest_y, closest_x = local_closest_y, local_closest_x\n",
    "                mask_index = idx\n",
    "\n",
    "        distances.append(min_distance)\n",
    "        closest_points.append((closest_y, closest_x))\n",
    "        mask_indices.append(mask_index)\n",
    "\n",
    "    return distances, closest_points, mask_indices\n",
    "\n",
    "def visualize_debug(gt_points, pred_masks, distances, closest_points, mask_indices):\n",
    "    num_masks = len(pred_masks)\n",
    "    fig, axes = plt.subplots(num_masks, 1, figsize=(8, 8 * num_masks))\n",
    "\n",
    "    for idx, (pred_mask, ax) in enumerate(zip(pred_masks, axes)):\n",
    "        ax.imshow(pred_mask)  # Display the predicted mask\n",
    "\n",
    "        for gt_point, distance, closest_point, mask_index in zip(gt_points, distances, closest_points, mask_indices):\n",
    "            if mask_index == idx:\n",
    "                y, x = gt_point\n",
    "                closest_y, closest_x = closest_point\n",
    "\n",
    "                print(f\"Ground truth point: {gt_point}, Closest point: {closest_point}, Distance: {distance}\")\n",
    "\n",
    "                ax.scatter(x, y, c='red', marker='x', s=50, label='Ground Truth')  # Mark the ground truth point\n",
    "                ax.plot([x, closest_x], [y, closest_y], 'r--', label='Distance')  # Draw the distance line\n",
    "                ax.scatter(closest_x, closest_y, c='blue', marker='o', s=20, label='Closest Point')  # Mark the closest point\n",
    "\n",
    "        ax.set_title(f\"Closest point-to-mask distance for mask {idx + 1}\")\n",
    "        ax.legend()\n",
    "\n",
    "    plt.tight_layout()\n",
    "    plt.show()"
   ]
  },
  {
   "cell_type": "code",
   "execution_count": 109,
   "metadata": {},
   "outputs": [],
   "source": [
    "def point_to_mask_iou(gt_points, pred_masks, radius=5, structure=None):\n",
    "    # Convert ground truth points to masks\n",
    "    gt_masks = np.zeros_like(pred_masks)\n",
    "    for point in gt_points:\n",
    "        y, x = point\n",
    "        gt_masks[y, x] = 1\n",
    "\n",
    "    # Dilate ground truth masks to create regions around the points\n",
    "    if structure is None:\n",
    "        structure = np.ones((2 * radius + 1, 2 * radius + 1))\n",
    "    gt_masks_dilated = binary_dilation(gt_masks, structure)\n",
    "\n",
    "    # Calculate IoU\n",
    "    intersection = np.sum(np.logical_and(gt_masks_dilated, pred_masks))\n",
    "    union = np.sum(np.logical_or(gt_masks_dilated, pred_masks))\n",
    "    iou = intersection / union\n",
    "\n",
    "    return iou"
   ]
  },
  {
   "cell_type": "code",
   "execution_count": null,
   "metadata": {},
   "outputs": [],
   "source": [
    "# Choose a random pano_id from other_labels_df\n",
    "#pano_id = other_labels_df['gsv_panorama_id'].sample(1).values[0]\n",
    "#pano_id = 'olwK2geLCfd8HG3KHlGlGA'\n",
    "#print(f'Pano ID: {pano_id}')\n",
    "#mask_path = f'../res/dataset_PS/centrum_west_small/backprojected/{pano_id}/{pano_id}.png'\n",
    "#pred_masks = plt.imread(mask_path)\n",
    "#print(f'The shape of the mask is: {pred_masks.shape}')\n",
    "#mask1, mask2 = split_masks(pred_masks)\n",
    "\n",
    "# Open .json file from res/dataset/centrum_west_small/backprojected/input_coco_format.json\n",
    "with open('../res/dataset_PS/centrum_west_small/backprojected/input_coco_format.json') as f:\n",
    "    data = json.load(f)\n",
    "\n",
    "# The structure of data is a list of dictionaries, with instance['pano_id'] as the panorama ID\n",
    "# and instance['segmentation'] as the corresponding masks. Make a dictionary of masks with\n",
    "# the panorama ID as the key and a list of masks as value.\n",
    "panos = {}\n",
    "for instance in data[:1000]:\n",
    "    pano_id = instance['pano_id'].replace(\".jpg\", \"\")\n",
    "    mask = mask_util.decode(instance['segmentation'])\n",
    "    if pano_id not in panos:\n",
    "        panos[pano_id] = []\n",
    "    panos[pano_id].append(mask)\n",
    "\n",
    "for pano in tqdm(panos):\n",
    "    if pano in other_labels_df[\"gsv_panorama_id\"].values:\n",
    "        print(f'Visualizing labels of pano {pano}')\n",
    "        gt_points = visualize_label(other_labels_df, pano)"
   ]
  },
  {
   "cell_type": "code",
   "execution_count": null,
   "metadata": {},
   "outputs": [],
   "source": [
    "# Print sv_image_x and sv_image_y of label_id 3822 in other_labels_df\n",
    "#print('Before changing values: ' , other_labels_df.loc[other_labels_df['label_id'] == 3822, ['sv_image_x', 'sv_image_y']])\n",
    "\n",
    "# Change sv_image_x and sv_image_y of label_id 3822 in other_labels_df to (5203, -1023)\n",
    "#other_labels_df.loc[other_labels_df['label_id'] == 3822, 'sv_image_x'] = 5203\n",
    "#other_labels_df.loc[other_labels_df['label_id'] == 3822, 'sv_image_y'] = -1023\n",
    "\n",
    "gt_points = visualize_label(other_labels_df, pano_id)\n",
    "pred_masks = [mask1, mask2]\n",
    "\n",
    "#print(gt_points)\n",
    "# Change the first gt_points pair values to (5203,-1023)\n",
    "#gt_points[0] = (5203, -1023)\n",
    "\n",
    "distances, closest_points, mask_indices = point_to_mask_distance(gt_points, pred_masks)\n",
    "visualize_debug(gt_points, pred_masks, distances, closest_points, mask_indices)"
   ]
  }
 ],
 "metadata": {
  "kernelspec": {
   "display_name": "sidewalk",
   "language": "python",
   "name": "python3"
  },
  "language_info": {
   "codemirror_mode": {
    "name": "ipython",
    "version": 3
   },
   "file_extension": ".py",
   "mimetype": "text/x-python",
   "name": "python",
   "nbconvert_exporter": "python",
   "pygments_lexer": "ipython3",
   "version": "3.10.9"
  },
  "orig_nbformat": 4
 },
 "nbformat": 4,
 "nbformat_minor": 2
}
