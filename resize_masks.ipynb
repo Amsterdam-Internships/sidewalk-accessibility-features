{
 "cells": [
  {
   "cell_type": "code",
   "execution_count": null,
   "metadata": {},
   "outputs": [],
   "source": [
    "import os\n",
    "import numpy as np\n",
    "from PIL import Image\n",
    "\n",
    "# Make a new directory to save the resized masks in\n",
    "path = 'res/dataset/centrum_west_small/masks_resized'\n",
    "if not os.path.exists(path):\n",
    "        os.makedirs(path)\n",
    "\n",
    "# Import all the masks in res/dataset/centrum_west_small/masks and resize them to 512x512\n",
    "directory = 'res/dataset/centrum_west_small/masks'\n",
    "print(f'Resizing {len(os.listdir(directory))} masks...')\n",
    "for pano in os.listdir(directory):\n",
    "    # Skip .DS_Store\n",
    "    if pano == '.DS_Store':\n",
    "        continue\n",
    "    else:\n",
    "        # Make a new directory in masks_resized\n",
    "        pano_path = os.path.join(path, pano)\n",
    "        if not os.path.exists(pano_path):\n",
    "            os.makedirs(pano_path)\n",
    "\n",
    "        # There are four masks in each pano folder: back, front, left, right. Resize them all to 512x512\n",
    "        for mask in os.listdir(os.path.join(directory, pano)):\n",
    "            mask_path = os.path.join(directory, pano, mask)\n",
    "            mask = Image.open(mask_path)\n",
    "            mask = mask.resize((512, 512))\n",
    "            # Save them in res/dataset/centrum_west_small/masks_resized\n",
    "            new_mask_path = os.path.join(path, pano)\n",
    "            # If the name of the mask is 'left.png', save it as 'left.png' in the new directory, otherwise save it as 'right.png'\n",
    "            if mask_path.endswith('left.png'):\n",
    "                mask.save(os.path.join(new_mask_path, 'left.png'))\n",
    "            elif mask_path.endswith('right.png'):\n",
    "                mask.save(os.path.join(new_mask_path, 'right.png'))\n",
    "            else:\n",
    "                continue\n",
    "        "
   ]
  },
  {
   "cell_type": "code",
   "execution_count": null,
   "metadata": {},
   "outputs": [],
   "source": []
  }
 ],
 "metadata": {
  "kernelspec": {
   "display_name": "sidewalk",
   "language": "python",
   "name": "python3"
  },
  "language_info": {
   "codemirror_mode": {
    "name": "ipython",
    "version": 3
   },
   "file_extension": ".py",
   "mimetype": "text/x-python",
   "name": "python",
   "nbconvert_exporter": "python",
   "pygments_lexer": "ipython3",
   "version": "3.10.9"
  },
  "orig_nbformat": 4,
  "vscode": {
   "interpreter": {
    "hash": "dc8f10fb08dfb72464ef72608aacb17a188f70ae123fafdbcc993818f90d6e3a"
   }
  }
 },
 "nbformat": 4,
 "nbformat_minor": 2
}
