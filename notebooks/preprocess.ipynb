{
 "cells": [
  {
   "attachments": {},
   "cell_type": "markdown",
   "metadata": {},
   "source": [
    "# Preprocess Data"
   ]
  },
  {
   "attachments": {},
   "cell_type": "markdown",
   "metadata": {},
   "source": [
    "- This notebook will show on a small scale the functions of preprocess.py. \n",
    "- Here, we will download a few panoramic images, reorient and reproject them, making them ready for sidewalk extraction."
   ]
  },
  {
   "cell_type": "code",
   "execution_count": null,
   "metadata": {},
   "outputs": [],
   "source": [
    "import numpy as np\n",
    "\n",
    "import sys\n",
    "\n",
    "import json\n",
    "import os\n",
    "import requests\n",
    "import shutil\n",
    "\n",
    "import pandas as pd\n",
    "from PIL import Image"
   ]
  },
  {
   "attachments": {},
   "cell_type": "markdown",
   "metadata": {},
   "source": [
    "### 0. Download Panoramic Images (DataPunt)"
   ]
  },
  {
   "cell_type": "code",
   "execution_count": null,
   "metadata": {},
   "outputs": [],
   "source": [
    "# Make a call to the API to get the panoramas in the area of interest after 2021-01-01\n",
    "\n",
    "# Base API url (subset: 10 images from page 150)\n",
    "base_url = \"https://api.data.amsterdam.nl/panorama/panoramas/?format=json&page_size=10&page=150&srid=4326&bbox={},{},{},{}&timestamp_after=2021-01-01\" \n",
    "\n",
    "# Bounding box coordinates for the area of interest (Osdorp)\n",
    "bounds = (4.754844, 52.346254, 4.820438, 52.381408)\n",
    "\n",
    "# Create the url\n",
    "url = base_url.format(*bounds)\n",
    "\n",
    "test_api = requests.get(url).json()"
   ]
  },
  {
   "cell_type": "code",
   "execution_count": null,
   "metadata": {},
   "outputs": [],
   "source": [
    "# The structure of the API json is as follows:\n",
    "# - links: href used to get the json, next page, previous page\n",
    "# - count: number of panoramas returned by the API\n",
    "# - _embedded: the actual json with the panoramas\n",
    "# -- panoramas: list of panoramas\n",
    "# Each panorama has the following keys: \n",
    "# '_links', 'cubic_img_baseurl', 'cubic_img_pattern', 'geometry', 'pano_id', 'timestamp', \n",
    "# 'filename', 'surface_type', 'mission_distance', 'mission_type', 'mission_year', 'tags', 'roll', 'pitch', 'heading'\n",
    "# The link to get our panorama is in '_links' -> 'equirectangular_full' -> 'href'\n",
    "\n",
    "# Print number of panoramas in the area of interest\n",
    "print(\"Number of panoramas in the area of interest: {}\".format(test_api['count']))\n",
    "\n",
    "\n",
    "# Collect all the links to the panoramas and the panorama ids\n",
    "pano_ids = [pano['pano_id'] for pano in test_api['_embedded']['panoramas']]\n",
    "links = [pano['_links']['equirectangular_full']['href'] for pano in test_api['_embedded']['panoramas']]\n",
    "#print(test_api['_embedded']['panoramas'][0].keys())\n",
    "#print(test_api['_embedded']['panoramas'][0])\n",
    "print(pano_ids)\n",
    "print(links)"
   ]
  },
  {
   "cell_type": "code",
   "execution_count": null,
   "metadata": {},
   "outputs": [],
   "source": [
    "# Make a folder to store the panoramas called sample_dataset\n",
    "folder = '../res/sample_dataset/'\n",
    "os.makedirs(folder, exist_ok=True)\n",
    "\n",
    "success = 0\n",
    "fail = 0\n",
    "for link in links:\n",
    "    # The filename of the panorama is the corresponding pano_id value\n",
    "    filename = pano_ids[links.index(link)]\n",
    "    # Download the panorama\n",
    "    res = requests.get(link, allow_redirects=True)\n",
    "    # Save the panorama\n",
    "    if res.status_code == 200:\n",
    "        with open(folder + filename, 'wb') as f:\n",
    "            f.write(res.content)\n",
    "            success += 1\n",
    "    else:\n",
    "        fail += 1\n",
    "print(f\"Success: {success}, Fail: {fail}\")"
   ]
  },
  {
   "cell_type": "code",
   "execution_count": null,
   "metadata": {},
   "outputs": [],
   "source": [
    "# Save the panos with their headings to a csv\n",
    "headings = [pano['heading'] for pano in test_api['_embedded']['panoramas']]\n",
    "data = {'pano_id': pano_ids, 'heading': headings}\n",
    "# The headers of the csv are: pano_id, heading\n",
    "df = pd.DataFrame(data)\n",
    "df.to_csv(folder + 'panos.csv', index=False)"
   ]
  },
  {
   "attachments": {},
   "cell_type": "markdown",
   "metadata": {},
   "source": [
    "### 1. Reorient panoramas"
   ]
  },
  {
   "cell_type": "code",
   "execution_count": null,
   "metadata": {},
   "outputs": [],
   "source": [
    "# Reshift panorama according to heading\n",
    "def orient_panorama(img, heading):\n",
    "\n",
    "    shift = heading/360\n",
    "    pixel_split = int(img.size[0] * shift)\n",
    "    \n",
    "    left = Image.fromarray(np.array(img)[:, pixel_split:])\n",
    "    right = Image.fromarray(np.array(img)[:, :pixel_split])\n",
    "    \n",
    "    reoriented_img = np.hstack((left, right))\n",
    "    \n",
    "    return Image.fromarray(reoriented_img)"
   ]
  },
  {
   "cell_type": "code",
   "execution_count": null,
   "metadata": {},
   "outputs": [],
   "source": [
    "# Define path to .csv \n",
    "csvpath = folder + 'panos.csv'\n",
    "csv = pd.read_csv(csvpath)\n",
    "\n",
    "# Make a folder to store the reoriented panoramas called sample_dataset_reoriented\n",
    "folder_reoriented = folder + 'reoriented/'\n",
    "os.makedirs(folder_reoriented, exist_ok=True)\n",
    "\n",
    "# Reorient all the images in the .csv file and save them in a new folder\n",
    "for index, row in csv.iterrows():\n",
    "    img_filename = row['pano_id']\n",
    "    \n",
    "    img = Image.open(folder + img_filename, formats=['JPEG'])\n",
    "    heading = row['heading']\n",
    "    reoriented_img = orient_panorama(img, heading)\n",
    "    reoriented_img.save(folder_reoriented + img_filename, format='JPEG')"
   ]
  },
  {
   "attachments": {},
   "cell_type": "markdown",
   "metadata": {},
   "source": [
    "### 2. Reproject panoramas"
   ]
  },
  {
   "attachments": {},
   "cell_type": "markdown",
   "metadata": {},
   "source": [
    "Convert from Equirectangular projection to Cubemaps projection"
   ]
  },
  {
   "cell_type": "code",
   "execution_count": null,
   "metadata": {},
   "outputs": [],
   "source": [
    "import vrProjector as vrProjector\n",
    "from vrProjector.EquirectangularProjection import EquirectangularProjection\n",
    "from vrProjector.CubemapProjection import CubemapProjection"
   ]
  },
  {
   "cell_type": "code",
   "execution_count": null,
   "metadata": {},
   "outputs": [],
   "source": [
    "# We manually changed the mode from 'RGBA' to 'RGB' in AbstractProjection.py since we are dealing with .jpg files\n",
    "def split(img, pano_id, size):\n",
    "\n",
    "    # VrProjector the images to cubemap\n",
    "    eq = EquirectangularProjection()\n",
    "    eq.loadImage(img)\n",
    "    cb = CubemapProjection()\n",
    "    cb.initImages(size,size)\n",
    "    cb.reprojectToThis(eq)\n",
    "\n",
    "    # Retrieve front, right, back, left images\n",
    "    front = Image.fromarray(np.uint8(cb.front))\n",
    "    right = Image.fromarray(np.uint8(cb.right))\n",
    "    back = Image.fromarray(np.uint8(cb.back))\n",
    "    left = Image.fromarray(np.uint8(cb.left))\n",
    "\n",
    "    # Print mode of front\n",
    "    print(front.mode)\n",
    "\n",
    "    # Make a directory and save images in it\n",
    "    directory = os.path.join(folder + 'reprojected/', pano_id)\n",
    "    if not os.path.exists(directory):\n",
    "            os.makedirs(directory)\n",
    "\n",
    "    front.save(os.path.join(directory, 'front.png'))\n",
    "    right.save(os.path.join(directory, 'right.png'))\n",
    "    back.save(os.path.join(directory, 'back.png'))\n",
    "    left.save(os.path.join(directory, 'left.png'))\n",
    "\n",
    "    print('saved {}!'.format(pano_id))"
   ]
  },
  {
   "cell_type": "code",
   "execution_count": null,
   "metadata": {},
   "outputs": [],
   "source": [
    "# Load sample image\n",
    "pano_id = os.listdir(folder + 'reoriented/')[0]\n",
    "img = os.path.join(folder + 'reoriented', pano_id)\n",
    "size = 512\n",
    "\n",
    "split(img, pano_id, size)"
   ]
  },
  {
   "cell_type": "code",
   "execution_count": null,
   "metadata": {},
   "outputs": [],
   "source": [
    "# Show right image\n",
    "right_path = os.path.join(folder + 'reprojected/', pano_id, 'right.png')\n",
    "right = Image.open(right_path)\n",
    "right.show()"
   ]
  }
 ],
 "metadata": {
  "kernelspec": {
   "display_name": "sidewalk",
   "language": "python",
   "name": "python3"
  },
  "language_info": {
   "codemirror_mode": {
    "name": "ipython",
    "version": 3
   },
   "file_extension": ".py",
   "mimetype": "text/x-python",
   "name": "python",
   "nbconvert_exporter": "python",
   "pygments_lexer": "ipython3",
   "version": "3.10.9"
  },
  "orig_nbformat": 4,
  "vscode": {
   "interpreter": {
    "hash": "dc8f10fb08dfb72464ef72608aacb17a188f70ae123fafdbcc993818f90d6e3a"
   }
  }
 },
 "nbformat": 4,
 "nbformat_minor": 2
}
