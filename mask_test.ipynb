{
 "cells": [
  {
   "cell_type": "code",
   "execution_count": 5,
   "metadata": {},
   "outputs": [
    {
     "name": "stdout",
     "output_type": "stream",
     "text": [
      "(1000, 2000, 3)\n"
     ]
    },
    {
     "data": {
      "text/plain": [
       "\"# Try to merge the rles\\nfinal_mask = mask_util.merge([detected_instance['segmentation'] for detected_instance in data])\\nprint(final_mask)\\nmask = mask_util.decode(final_mask['counts'])\\nprint(type(final_mask['counts']))\\nplt.imshow(final_mask, cmap='gray')\\nplt.show()\""
      ]
     },
     "execution_count": 5,
     "metadata": {},
     "output_type": "execute_result"
    }
   ],
   "source": [
    "import json\n",
    "import os\n",
    "import pycocotools.mask as mask_util\n",
    "import numpy as np\n",
    "import matplotlib.pyplot as plt\n",
    "import cv2\n",
    "\n",
    "# Load .json file\n",
    "with open('res/dataset/centrum_west_small/backprojected/input_coco_format.json') as f:\n",
    "    data = json.load(f)\n",
    "\n",
    "#num = 0\n",
    "for detected_instance in data:\n",
    "    # Take the first pano and its 'counts' value, decode it and show the mask with plt\n",
    "    #mask = mask_util.decode(detected_instance['segmentation'])\n",
    "    #print(mask.shape)\n",
    "\n",
    "    # Save the mask as a png by using cv2\n",
    "    #cv2.imwrite(f'mask{num}.png', mask)\n",
    "    #num += 1\n",
    "\n",
    "    json_load = json.loads(detected_instance['segmentation']['counts'])\n",
    "    a_restored = np.asarray(json_load)\n",
    "    print(a_restored.shape)\n",
    "    # Save the image\n",
    "    cv2.imwrite(f'mask.png', a_restored)\n",
    "    break\n",
    "\n",
    "\n",
    "'''# Try to merge the rles\n",
    "final_mask = mask_util.merge([detected_instance['segmentation'] for detected_instance in data])\n",
    "print(final_mask)\n",
    "mask = mask_util.decode(final_mask['counts'])\n",
    "print(type(final_mask['counts']))\n",
    "plt.imshow(final_mask, cmap='gray')\n",
    "plt.show()'''\n"
   ]
  },
  {
   "cell_type": "code",
   "execution_count": null,
   "metadata": {},
   "outputs": [],
   "source": []
  }
 ],
 "metadata": {
  "kernelspec": {
   "display_name": "sidewalk",
   "language": "python",
   "name": "python3"
  },
  "language_info": {
   "codemirror_mode": {
    "name": "ipython",
    "version": 3
   },
   "file_extension": ".py",
   "mimetype": "text/x-python",
   "name": "python",
   "nbconvert_exporter": "python",
   "pygments_lexer": "ipython3",
   "version": "3.10.9"
  },
  "orig_nbformat": 4,
  "vscode": {
   "interpreter": {
    "hash": "dc8f10fb08dfb72464ef72608aacb17a188f70ae123fafdbcc993818f90d6e3a"
   }
  }
 },
 "nbformat": 4,
 "nbformat_minor": 2
}
